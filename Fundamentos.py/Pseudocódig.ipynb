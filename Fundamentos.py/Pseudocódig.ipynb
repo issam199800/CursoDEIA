{
 "cells": [
  {
   "cell_type": "markdown",
   "id": "22bf6595",
   "metadata": {},
   "source": [
    "PSEUDOCÓDIGO PARA ENCONTRAR UNA PALABRA EN EL DICCIONARIO"
   ]
  },
  {
   "cell_type": "markdown",
   "id": "93e71b3a",
   "metadata": {},
   "source": [
    "- La solución es abrir el diccionario por el medio. Si no está la palabra, iremos hacia la izquierda y abrimos de nuevo por la mitad, luego miramos hacia la derecha y abrimos po la mitad. Básicamente vamos tirando a la izquierda (si nos pasamos) y a la derecha. (si me adelanto)\n",
    "\n",
    "- Esto se llama recursión: es la repetición del proceso para encontrar el problema de manera que se va reduciendo hasta encontrar la solución."
   ]
  }
 ],
 "metadata": {
  "language_info": {
   "name": "python"
  }
 },
 "nbformat": 4,
 "nbformat_minor": 5
}
