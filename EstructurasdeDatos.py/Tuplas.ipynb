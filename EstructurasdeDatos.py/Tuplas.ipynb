{
 "cells": [
  {
   "cell_type": "markdown",
   "id": "ec8a2d32",
   "metadata": {},
   "source": [
    "Tipos secuenciales\n",
    "\n",
    "- Estructuras de datos secuenciales: range. list, tuple, set, dict\n",
    "\n",
    "a = range(3)        a = range(0,3,1)      a = range(5,10,2)\n",
    " for i in a:         for i in a:            for i in a:\n",
    "   print(i)            print(i)               print(i)\n",
    "\n",
    "- El range es muy útil para hacer un iterador rápido "
   ]
  },
  {
   "cell_type": "code",
   "execution_count": 1,
   "id": "b67e8b6c",
   "metadata": {},
   "outputs": [
    {
     "name": "stdout",
     "output_type": "stream",
     "text": [
      "5\n",
      "7\n",
      "9\n"
     ]
    }
   ],
   "source": [
    "a = range(5,10,2)\n",
    "for i in a:\n",
    "    print(i)"
   ]
  },
  {
   "cell_type": "markdown",
   "id": "5146a251",
   "metadata": {},
   "source": [
    "Tupla: estructura de datos secuencial en la que vamos a tener varios valores\n",
    "\n",
    "- Objeto inmutable de longitud fija ----> Significa que no vamos a cambiar sus valores una vez definido\n",
    "\n",
    " t = (1, 2, 3)\n",
    "\n",
    " - Indexado por posición en la secuencia \n",
    "\n",
    " print(t[0])\n",
    " print(t[1])\n",
    " print(t[2])\n",
    "\n",
    " Longitud de la secuencia\n",
    "  \n",
    "  len(t)  3\n"
   ]
  },
  {
   "cell_type": "markdown",
   "id": "7861097e",
   "metadata": {},
   "source": [
    "Operaciones\n",
    "\n",
    "Si sumamos dos tuplas lo que haremos es concatenarlas:\n",
    "\n",
    "t1 = (1,2,3)\n",
    "t2 = (4,5,6)\n",
    "print(t1 + t2)\n",
    "\n",
    "Multiplicar una tupla por un número\n",
    "\n",
    "t = (1,2,3)\n",
    "print(3 * t)\n",
    "\n",
    "Extracción: Operación de desestructuración. Si sabemos que tenemos tres valores podemo hacer el ejemplo de abajo:\n",
    "\n",
    "t = (1,2,3)\n",
    "a,b,c = t\n",
    "print(a,b,c)\n",
    "\n",
    "- Ejemplo de una tupla\n",
    "podemos tener valores de diferente tipo\n",
    "  \n",
    "     t = (1, \"hola\", True)\n",
    "\n",
    "Iteración \n",
    "\n",
    "    for item in t:\n",
    "    print(item)"
   ]
  },
  {
   "cell_type": "code",
   "execution_count": 2,
   "id": "35636480",
   "metadata": {},
   "outputs": [
    {
     "data": {
      "text/plain": [
       "(1, 'hola', True)"
      ]
     },
     "execution_count": 2,
     "metadata": {},
     "output_type": "execute_result"
    }
   ],
   "source": [
    "t = (1, \"hola\", True)\n",
    "t"
   ]
  }
 ],
 "metadata": {
  "kernelspec": {
   "display_name": "Python 3",
   "language": "python",
   "name": "python3"
  },
  "language_info": {
   "codemirror_mode": {
    "name": "ipython",
    "version": 3
   },
   "file_extension": ".py",
   "mimetype": "text/x-python",
   "name": "python",
   "nbconvert_exporter": "python",
   "pygments_lexer": "ipython3",
   "version": "3.12.1"
  }
 },
 "nbformat": 4,
 "nbformat_minor": 5
}
