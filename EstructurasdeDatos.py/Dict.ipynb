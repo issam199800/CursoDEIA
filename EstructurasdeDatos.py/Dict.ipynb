{
 "cells": [
  {
   "cell_type": "markdown",
   "id": "56fdcbe9",
   "metadata": {},
   "source": [
    "Colección de pares clave-valor (también conocido com diccionario o hash map)\n",
    "\n",
    "d = {'a' : 1, 'b': 2, 'c':3}  #Definimos la clave (siempre tienen que ser diferentes)\n",
    "\n",
    "Insertar o eliminar valores\n",
    "d['d'] = 4\n",
    "print(d)\n",
    "\n",
    "del d['d']  #Con el del eliminamos\n",
    "print(d)\n",
    "\n",
    "Comrobar clave presente en dict\n",
    "\n",
    "print('a' in d)\n",
    "print('a' not in d)\n",
    "\n",
    "\n",
    "Si por ejemplo 'a' : 2 --> el resultado será 2. Es como que me dice el valor que supone la clave que son las letras asignadas y son únicas. Si queremos eliminar lo hacemos con el del.\n",
    "Así juntamos dos dicts --> d.update(d2)\n"
   ]
  },
  {
   "cell_type": "markdown",
   "id": "e71a665e",
   "metadata": {},
   "source": [
    "Ejercicio\n",
    "\n",
    "Crea un dict a partir de dos listas con las claves y los valores (bonus: usando list comprehension)\n",
    "\n",
    "keys = ['a', 'b', 'c']\n",
    "values = [1,2,3]"
   ]
  },
  {
   "cell_type": "code",
   "execution_count": null,
   "id": "217dfdbb",
   "metadata": {},
   "outputs": [
    {
     "name": "stdout",
     "output_type": "stream",
     "text": [
      "{'a': 1}\n",
      "{'a': 1, 'b': 2}\n",
      "{'a': 1, 'b': 2, 'c': 3}\n"
     ]
    }
   ],
   "source": [
    "keys = ['a', 'b', 'c']  #Aquí tenemos las clvaes\n",
    "values = [1, 2, 3]   #Aquí tenemos los valores\n",
    "\n",
    "d = {}  #Iniciallizamos un diccionario vacio\n",
    "for k, v in zip(keys, values):\n",
    "    d[k] = v\n",
    "    print(d)"
   ]
  },
  {
   "cell_type": "code",
   "execution_count": 1,
   "id": "e85c047b",
   "metadata": {},
   "outputs": [
    {
     "name": "stdout",
     "output_type": "stream",
     "text": [
      "{'a': 1, 'b': 2, 'c': 3}\n"
     ]
    }
   ],
   "source": [
    "keys = ['a', 'b', 'c']\n",
    "values = [1, 2, 3]\n",
    "d = {k: v for k, v in zip(keys, values)}\n",
    "print(d)"
   ]
  }
 ],
 "metadata": {
  "kernelspec": {
   "display_name": "Python 3",
   "language": "python",
   "name": "python3"
  },
  "language_info": {
   "codemirror_mode": {
    "name": "ipython",
    "version": 3
   },
   "file_extension": ".py",
   "mimetype": "text/x-python",
   "name": "python",
   "nbconvert_exporter": "python",
   "pygments_lexer": "ipython3",
   "version": "3.12.1"
  }
 },
 "nbformat": 4,
 "nbformat_minor": 5
}
