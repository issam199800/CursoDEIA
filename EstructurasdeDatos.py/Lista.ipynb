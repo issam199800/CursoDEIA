{
 "cells": [
  {
   "cell_type": "markdown",
   "id": "0c9d16a1",
   "metadata": {},
   "source": [
    "Objeto mutable ---> si que podemos cambiar los valores que hay ahí dentro y si que vamos a poder añadir y quitar valores\n",
    "\n",
    "Lo definimos así:  1 = [1,2,3]\n",
    "\n",
    "- Indexado por posicición en la secuencia \n",
    "\n",
    "print(1[0])\n",
    "print(1[1])\n",
    "print(1[2])\n",
    "\n",
    "- Longitud secuencial \n",
    "\n",
    "len(1)\n",
    "\n",
    "- Concatenación, repetición y extracción como en tupla\n",
    "- Insertar o eliminar elementos\n",
    "\n",
    "Append(4) --> Para añadir valores al final.\n",
    "Insert(2, 2.5) --> Donde queremos insertar el valor y que valor. En este caso estamos diciendo que en la posición 2 de la lista, insertame el valor 2.5\n",
    "pop --> Valores por su posición\n",
    "Remove ---> Que valor queremos sacar (más utilizado)"
   ]
  },
  {
   "cell_type": "markdown",
   "id": "0b3b4cf9",
   "metadata": {},
   "source": [
    "Comprobar si un elemento está presente en la lista\n",
    "\n",
    "1 = [1, 2, 3]    #\n",
    "print(3 in l)  #Nos devuelve un True si hay un 3 en la lista\n",
    "peint(3 not in 1)"
   ]
  },
  {
   "cell_type": "markdown",
   "id": "a6164148",
   "metadata": {},
   "source": [
    "Ejercicio: List comprehesion: Forma rápida de crear listas a partir de otras cosas (transformación, filtrado)\n",
    "\n",
    "·Primer ejemplo:\n",
    "11 = [1,2,3,4,5]\n",
    "12 = []\n",
    "for i in 11:\n",
    "12.append(i*2)\n",
    "print(12)\n",
    "\n",
    "#Hacerlo en una línea de código\n",
    "\n",
    ".Segundo ejemplo:\n",
    "11 = [1, 2, 3, 4, 5]\n",
    "12 = []\n",
    "for i in 11:\n",
    "if not i % 2:\n",
    "12.append(i*2)\n",
    "print(12)"
   ]
  }
 ],
 "metadata": {
  "kernelspec": {
   "display_name": "Python 3",
   "language": "python",
   "name": "python3"
  },
  "language_info": {
   "codemirror_mode": {
    "name": "ipython",
    "version": 3
   },
   "file_extension": ".py",
   "mimetype": "text/x-python",
   "name": "python",
   "nbconvert_exporter": "python",
   "pygments_lexer": "ipython3",
   "version": "3.12.1"
  }
 },
 "nbformat": 4,
 "nbformat_minor": 5
}
