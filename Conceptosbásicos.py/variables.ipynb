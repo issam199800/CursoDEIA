{
 "cells": [
  {
   "cell_type": "markdown",
   "id": "b924e5df",
   "metadata": {},
   "source": [
    "- Para python todo son objetos.\n",
    "- #Esto es texto que el programa va a ignorar todo eso. Comentario\n",
    "- Variables: referencia a un objeto en memoria. \n",
    "\n",
    "Queremos crear la variables hola---> a= \"Hola\"    - Hola en ASCII ->01001000011011110110110001100001\n",
    "\n",
    "id(a) nos dice donde esta guardado el objeto Hola\n",
    "\n",
    "Referencia dinámica:  \n",
    "     a = \"Hola\"\n",
    "     print(a)\n",
    "\n",
    "     a = 1\n",
    "     print(a)\n",
    "\n",
    "Nombrar nuestras variables: \n",
    "  - Empezar con minúscula\n",
    "  - Usar nombres descriptivos\n",
    "  - Varias palabras separadas por _(snake case) o empezando por mayúscula a partir de la segunda (camel case)."
   ]
  },
  {
   "cell_type": "markdown",
   "id": "8595468a",
   "metadata": {},
   "source": [
    "Ejercicio: Implementar un programa en Python que acepte una entrada, la guarde en una variable y la muestre por pantalla."
   ]
  },
  {
   "cell_type": "markdown",
   "id": "ec7eb4c2",
   "metadata": {},
   "source": [
    "Tipos básicos\n",
    "\n",
    "- Número decimal --> float    a = 1.2\n",
    "                             print(isinstance(a, float))\n",
    "- Número entero --> int       a = 2\n",
    "                             print(isinstance(a, int))\n",
    "- Cadena de caracteres(string) --> str  a = \"hola\"\n",
    "                             print(isinstance(a, str))\n",
    "- Booleano --> bool (True/False)   a = True\n",
    "                             print(isinstance(a, bool)\n",
    "- Cadena de bytes --> bytes\n",
    "- Valor inexistente --> None"
   ]
  },
  {
   "cell_type": "markdown",
   "id": "892e33a1",
   "metadata": {},
   "source": []
  }
 ],
 "metadata": {
  "language_info": {
   "name": "python"
  }
 },
 "nbformat": 4,
 "nbformat_minor": 5
}
