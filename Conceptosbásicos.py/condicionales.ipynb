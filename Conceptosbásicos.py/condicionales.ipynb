{
 "cells": [
  {
   "cell_type": "markdown",
   "id": "cbabf517",
   "metadata": {},
   "source": [
    "COMPARACIÓN\n",
    "\n",
    "- EJEMPLO DE TODOS LOS OPERADORES DE COMPARACIÓN\n",
    "\n",
    "  - Y -> and            print(True and False)\n",
    "  - O -> or             print(True or False)     #Los tres son de comparación binarios\n",
    "  - No -> not           print(not True or False)\n",
    "\n",
    "  - Igualdad -> ==      print(1 == 2)\n",
    "  - Desigualdad -> !=   print(1 != 2)\n",
    "  - Menor que -> <      print(1 < 1)\n",
    "  - Menor o igual que -> <=  print(1 <>= 1)\n",
    "  - Mayor que -> >      print(3 > 2)\n",
    "  - Mayor o igual que -> >=  print(3 >= 2)"
   ]
  },
  {
   "cell_type": "markdown",
   "id": "852a1aac",
   "metadata": {},
   "source": [
    "CONDICIONALES\n",
    "\n",
    "Palabras reservadas: if, elif, else\n",
    "Tabulación"
   ]
  },
  {
   "cell_type": "code",
   "execution_count": 1,
   "id": "7e2988ec",
   "metadata": {},
   "outputs": [
    {
     "name": "stdout",
     "output_type": "stream",
     "text": [
      "positivo\n"
     ]
    }
   ],
   "source": [
    "#Condicionales\n",
    "#Para que este código funciones tenemos que tener en cuenta la tabulación\n",
    "x = 1\n",
    "\n",
    "if x < 0:    #Aquí decimos que si x es mas pequeño que 0, ejecuta todo lo que haya dentro del if\n",
    "    print(\"negativo\")  #Aquí está la tabulación que nos esta diciendo es que todo lo que tenga esta tabulación estará dentro del if\n",
    "elif x == 0:   #Aquí comprobamos si x es igual a 0 \n",
    "    print(\"cero\")\n",
    "else:       #Si no es igual a 0 después de ejecutarlo, saltariamos a este paso. Else significa cualquier otra cosa, si no se ha cumplido nada de lo anterior ejecutado esto, lo que por defecto pongamos dentro del else\n",
    "    print(\"positivo\")"
   ]
  },
  {
   "cell_type": "code",
   "execution_count": 5,
   "id": "f6d598d7",
   "metadata": {},
   "outputs": [
    {
     "name": "stdout",
     "output_type": "stream",
     "text": [
      "positivo\n",
      "fin\n"
     ]
    }
   ],
   "source": [
    "x = 1\n",
    "\n",
    "if x < 0:\n",
    "    print(\"negativo\")\n",
    "elif x > 0:\n",
    "    print(\"positivo\")\n",
    "else:\n",
    "    print(\"cero\")\n",
    "\n",
    "print(\"fin\")"
   ]
  },
  {
   "cell_type": "markdown",
   "id": "263841b0",
   "metadata": {},
   "source": [
    "EJERCICIO CONDICIONALES\n",
    "\n",
    "- Buscar las diferencias entre los dos condicionales de aquí:\n",
    "\n",
    "x = 1                              x = 1\n",
    "\n",
    "if x < 0:                          if x < 0:\n",
    "    print(\"negativo\")                   print(\"negativo\")\n",
    "elif x == 0:                       if x == 0:\n",
    "    print(\"cero\")                       print(\"cero\")\n",
    "else:                              if x > 0:\n",
    "  print(\"positivo\")                     print(\"positivo\")\n",
    "\n",
    "\n",
    "\n",
    "Ejercicio 2. Operador binario: En python buscamos la eficiencia de códig (en número de líneas). ¿Puedes reducir la siguiente comparación en una sóla línea?\n",
    "\n",
    "\n",
    "x = 1\n",
    "\n",
    "if x > 0:\n",
    "   a = x\n",
    "else: \n",
    "   a = 0\n",
    "\n",
    "   print(a)\n",
    "\n",
    "\n",
    "Ejercicio 3. ¿Cómo comprobarías si un número es par o impar? Construir un condicional con if else elif lo que necesite. \n",
    "\n",
    "x = 1\n",
    "#par o impar?"
   ]
  },
  {
   "cell_type": "code",
   "execution_count": null,
   "id": "86a1b9b2",
   "metadata": {},
   "outputs": [
    {
     "name": "stdout",
     "output_type": "stream",
     "text": [
      "positivo\n"
     ]
    }
   ],
   "source": [
    "x = 1\n",
    "\n",
    "if x < 0:\n",
    "    print(\"negativo\")\n",
    "if x == 0:\n",
    "    print(\"cero\")\n",
    "if x > 0:\n",
    "    print(\"positivo\")    #Me imprime positivo porque  de las tres condiciones solo una es verdadera \n",
    "                         #Aunque se usen tres if por separado, cada uno se evalúa por sí mismo y solo se ejecuta su bloque si la condición se cumple.\n",
    "                         #Este código no es tan eficiente.\n",
    "\n",
    "                         #Por otro lado, si ejecutamos el otro código con if elif y else, lo comprueba y si no es el resultado correcto y salta a la siguiente condición. Esta es más eficiente ya que una vez se cumpla una de ellas ya pasa automáticamente al final."
   ]
  },
  {
   "cell_type": "code",
   "execution_count": null,
   "id": "50a00023",
   "metadata": {},
   "outputs": [
    {
     "name": "stdout",
     "output_type": "stream",
     "text": [
      "1\n"
     ]
    }
   ],
   "source": [
    "x = 1\n",
    "#Operador ternario\n",
    "a = x if x > 0 else 0  #Asignamos un if y un else y en 'x' estamos devolviendo lo que queremos asignar a nuestra variable (a) cuando se cumpla o no alguna de estas condiciones.\n",
    "print(a)               #Quiero que a sea x si x es positivo sino que sea 0. (Traducción del código)"
   ]
  },
  {
   "cell_type": "code",
   "execution_count": null,
   "id": "14dcccc4",
   "metadata": {},
   "outputs": [
    {
     "name": "stdout",
     "output_type": "stream",
     "text": [
      "par\n",
      "par\n"
     ]
    }
   ],
   "source": [
    "x = 2\n",
    "#par o impar?\n",
    "\n",
    "if x % 2:  #Oprador módulo  (x % 2) es como si puesieramos False.\n",
    "    print('impar')\n",
    "else:\n",
    "    print('par')\n",
    "\n",
    "    print('impar' if x % 2 else 'par')"
   ]
  },
  {
   "cell_type": "code",
   "execution_count": 10,
   "id": "00c38464",
   "metadata": {},
   "outputs": [
    {
     "name": "stdout",
     "output_type": "stream",
     "text": [
      "par\n"
     ]
    }
   ],
   "source": [
    "#Operador ternario\n",
    "\n",
    "print ('impar' if x % 2 else 'par')"
   ]
  }
 ],
 "metadata": {
  "kernelspec": {
   "display_name": "Python 3",
   "language": "python",
   "name": "python3"
  },
  "language_info": {
   "codemirror_mode": {
    "name": "ipython",
    "version": 3
   },
   "file_extension": ".py",
   "mimetype": "text/x-python",
   "name": "python",
   "nbconvert_exporter": "python",
   "pygments_lexer": "ipython3",
   "version": "3.12.1"
  }
 },
 "nbformat": 4,
 "nbformat_minor": 5
}
