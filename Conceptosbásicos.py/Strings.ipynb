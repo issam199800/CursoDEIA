{
 "cells": [
  {
   "cell_type": "markdown",
   "id": "74ec72e7",
   "metadata": {},
   "source": [
    "Los Strings son una cadena de caracteres ya sea textos, números..."
   ]
  },
  {
   "cell_type": "markdown",
   "id": "045d37c5",
   "metadata": {},
   "source": [
    "a = 'hola'\n",
    "b = 'que tal'\n",
    "\n",
    "print(a + ' ' + b)   ----> hola que tal  #Concatenación de strings\n",
    "print(len(a), len(b)) -----> 4 7 : es la longitud, cuantos cracateres hay en ese string\n",
    "print(a[0], a[1], a [2], a[3]) ----> h o l a  : es porque estamos imprmiendo cada uno de estos strings en una palabra de forma separada.\n",
    "print(a[1:3]) ----> ol : aquí me esta dando todos lo valores que ha entre el 1 y el 3.\n",
    "print(3*a) -----> holaholahola : aquí me esta multiplicando la palabra por 3 (multipicación de string) repetición de string\n",
    "print(b.split(' '))  ----> ['que', 'tal'] : nos separa un texto en palabras. Clasificiación de texto o traducción. Eso se hace con el Split\n",
    "print(b.replace('tal', 'ase'))----> que ase : puede reemplazar la palabra.\n",
    "\n",
    "\n",
    "EJERCICIO: SACAR POR PANTALLA UNA FRASE (Fstrings)\n",
    "\n",
    "Variable----- name = \"Issam\"\n",
    "Quiero imprimir print(\"Hola, soy Issam y tengo 27 años\")\n",
    "\n",
    "\n"
   ]
  },
  {
   "cell_type": "code",
   "execution_count": null,
   "id": "fb43e7be",
   "metadata": {},
   "outputs": [
    {
     "name": "stdout",
     "output_type": "stream",
     "text": [
      "Hola, soy Issam y tengo 27 años\n"
     ]
    }
   ],
   "source": [
    "nombre =  \"Issam\"\n",
    "edad = 27\n",
    "\n",
    "saludo = f\"Hola, soy {nombre} y tengo {edad} años\"   #La 'f' te trea las variables y lo que este dentro de las llaves. Es más comodo.\n",
    "print(saludo)\n",
    " # También trabaja con número y no solo con Strings. "
   ]
  },
  {
   "cell_type": "code",
   "execution_count": 2,
   "id": "c5323770",
   "metadata": {},
   "outputs": [
    {
     "name": "stdout",
     "output_type": "stream",
     "text": [
      "Hola  soy Issam y tengo 27 años\n"
     ]
    }
   ],
   "source": [
    "x = \"Hola, soy Issam y tengo 27 años\"\n",
    "y = ' '. join(x.split(','))  #Primero hacemos el slipt y le esta diciendo que donde veas una coma lo vas a separar\n",
    "print(y)"
   ]
  },
  {
   "cell_type": "markdown",
   "id": "37503975",
   "metadata": {},
   "source": [
    "Números\n",
    "\n",
    "int vs float\n",
    "\n",
    "Números enteros: tipo (int)\n",
    "Números decimales tipo (float) \n",
    "\n",
    "Transformar un número a un string:\n",
    "              print(type(1))\n",
    "              print(int('10'))\n",
    "\n",
    "              print(type(1.1))\n",
    "              print(float('10.1'))"
   ]
  },
  {
   "cell_type": "markdown",
   "id": "3e02e45e",
   "metadata": {},
   "source": [
    "OPERADORES  \n",
    "\n",
    "- Suma -> +\n",
    "- Resta -> -\n",
    "- Multiplicación -> *\n",
    "- División -> /\n",
    "- División entera -> //\n",
    "- Potenciación -> **\n",
    "- Módulo -> %\n",
    "\n",
    "\n",
    "OPERACIONES CON VARIABLES\n",
    "\n",
    "- - Suma -> +=\n",
    "- Resta -> -=                      x = 1   #inicialiazamos nuestra variables diciendole que x es igual a 1.\n",
    "- Multiplicación -> *=             x += 1  #Esta haciendo una suma y una asignación en un solo paso. Esta cogiendo x y le esta sumando 1 y ese resultado lo esta volviedo a meter en x.\n",
    "- División -> /=                  print(x)  = 2\n",
    "- División entera -> //=\n",
    "- Potenciación -> **=\n",
    "- Módulo -> %="
   ]
  }
 ],
 "metadata": {
  "kernelspec": {
   "display_name": "Python 3",
   "language": "python",
   "name": "python3"
  },
  "language_info": {
   "codemirror_mode": {
    "name": "ipython",
    "version": 3
   },
   "file_extension": ".py",
   "mimetype": "text/x-python",
   "name": "python",
   "nbconvert_exporter": "python",
   "pygments_lexer": "ipython3",
   "version": "3.12.1"
  }
 },
 "nbformat": 4,
 "nbformat_minor": 5
}
