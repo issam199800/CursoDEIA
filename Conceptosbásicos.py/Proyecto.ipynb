{
 "cells": [
  {
   "cell_type": "markdown",
   "id": "51b161ba",
   "metadata": {},
   "source": [
    "Mejoras del proyecto (bucles)\n",
    "\n",
    "- Notificar al usuario si su número es menor o mayor\n",
    "- Implementar un número máximo de intentos\n",
    "- Mostrar número de intentos usados\n",
    "- Posibilidad de volver a jugar\n",
    "- Mostrar resultado si se introduce el número -1(cheat code)\n",
    "- Mensaje especial si se adivina a la primera\n",
    "- Caulquiera otra mejora..."
   ]
  },
  {
   "cell_type": "code",
   "execution_count": 1,
   "id": "36186ef0",
   "metadata": {},
   "outputs": [
    {
     "name": "stdout",
     "output_type": "stream",
     "text": [
      "\n",
      "¡Bienvenido al juego de adivinar el número!\n",
      "Estoy pensando en un número del 1 al 50.\n",
      "Tú escribiste: \n"
     ]
    }
   ],
   "source": [
    "def jugar():\n",
    "    print(\"\\n¡Bienvenido al juego de adivinar el número!\")\n",
    "    print(\"Estoy pensando en un número del 1 al 50.\")\n",
    "    entrada = input(\"Ingresa tu número: \")\n",
    "    print(\"Tú escribiste:\", entrada)\n",
    "\n",
    "# Llamamos la función para probar\n",
    "jugar()\n"
   ]
  },
  {
   "cell_type": "code",
   "execution_count": 3,
   "id": "a60da920",
   "metadata": {},
   "outputs": [
    {
     "name": "stdout",
     "output_type": "stream",
     "text": [
      "\n",
      "Estoy pensando en un número del 1 al 50.\n",
      "Eso no es un número válido. Intenta de nuevo.\n"
     ]
    }
   ],
   "source": [
    "import random\n",
    "\n",
    "def jugar():\n",
    "    numero_secreto = random.randint(1, 50)\n",
    "\n",
    "    print(\"\\nEstoy pensando en un número del 1 al 50.\")\n",
    "\n",
    "    try:\n",
    "        entrada = int(input(\"¿Qué número crees que es?: \"))\n",
    "    except ValueError:\n",
    "        print(\"Eso no es un número válido. Intenta de nuevo.\")\n",
    "        return  # Salimos de la función sin continuar\n",
    "\n",
    "    if entrada == numero_secreto:\n",
    "        print(\"¡Es correcto!\")\n",
    "    else:\n",
    "        print(\"Incorrecto. El número secreto era:\", numero_secreto)\n",
    "\n",
    "jugar()\n"
   ]
  },
  {
   "cell_type": "code",
   "execution_count": 4,
   "id": "7eb4897b",
   "metadata": {},
   "outputs": [
    {
     "name": "stdout",
     "output_type": "stream",
     "text": [
      "\n",
      "Estoy pensando en un número del 1 al 50\n",
      "Eso no es un número válido. Intenta de nuevo.\n"
     ]
    }
   ],
   "source": [
    "import random\n",
    "\n",
    "def jugar():\n",
    "    numero_secreto = random.randint(1,50)\n",
    "\n",
    "    print(\"\\nEstoy pensando en un número del 1 al 50\")\n",
    "\n",
    "    try:\n",
    "        entrada = int(input(\"¿Qué número crees que es?: \"))\n",
    "    except ValueError:\n",
    "        print(\"Eso no es un número válido. Intenta de nuevo.\")\n",
    "        return\n",
    "    if entrada == numero_secreto:\n",
    "        print(\"Es correct\")\n",
    "    elif entrada < numero_secreto:\n",
    "        print(\"Es muy bajo\")\n",
    "    else: \n",
    "        print(\"Es muy alto\")\n",
    "\n",
    "jugar ()\n",
    "    \n"
   ]
  },
  {
   "cell_type": "code",
   "execution_count": 5,
   "id": "d3690aef",
   "metadata": {},
   "outputs": [
    {
     "name": "stdout",
     "output_type": "stream",
     "text": [
      "\n",
      "Estoy pensando en un número del 1 al 50.\n",
      "Eso no es un número válido. Intenta de nuevo.\n",
      "Eso no es un número válido. Intenta de nuevo.\n",
      "Eso no es un número válido. Intenta de nuevo.\n",
      "Eso no es un número válido. Intenta de nuevo.\n",
      "Eso no es un número válido. Intenta de nuevo.\n",
      "Tu número es muy bajo.\n"
     ]
    }
   ],
   "source": [
    "import random\n",
    "\n",
    "def jugar():\n",
    "    numero_secreto = random.randint(1, 50)\n",
    "    print(\"\\nEstoy pensando en un número del 1 al 50.\")\n",
    "\n",
    "    while True:  # Bucle que repite hasta que el usuario ingresa un número válido\n",
    "        entrada_str = input(\"¿Qué número crees que es?: \")\n",
    "        try:\n",
    "            entrada = int(entrada_str)\n",
    "            break  # Sale del bucle si la conversión fue exitosa\n",
    "        except ValueError:\n",
    "            print(\"Eso no es un número válido. Intenta de nuevo.\")\n",
    "\n",
    "    if entrada == numero_secreto:\n",
    "        print(\"¡Es correcto!\")\n",
    "    elif entrada < numero_secreto:\n",
    "        print(\"Tu número es muy bajo.\")\n",
    "    else:\n",
    "        print(\"Tu número es muy alto.\")\n",
    "\n",
    "jugar()\n"
   ]
  },
  {
   "cell_type": "code",
   "execution_count": null,
   "id": "ac7a7966",
   "metadata": {},
   "outputs": [
    {
     "name": "stdout",
     "output_type": "stream",
     "text": [
      "\n",
      "Estoy pensando en un número del 1 al 50.\n",
      "Tienes 5 intentos para adivinarlo.\n",
      "🔻 Tu número es muy bajo.\n",
      "🔺 Tu número es muy alto.\n",
      "🔺 Tu número es muy alto.\n",
      "🔻 Tu número es muy bajo.\n",
      "🔻 Tu número es muy bajo.\n",
      "😞 Se acabaron los intentos. El número era: 16\n"
     ]
    }
   ],
   "source": [
    "import random\n",
    "\n",
    "def jugar():\n",
    "    numero_secreto = random.randint(1, 50)\n",
    "    max_intentos = 5\n",
    "    intentos = 0\n",
    "    adivino_a_la_primera = False\n",
    "\n",
    "    print(\"\\nEstoy pensando en un número del 1 al 50.\")\n",
    "    print(f\"Tienes {max_intentos} intentos para adivinarlo.\")\n",
    "\n",
    "    while intentos < max_intentos:\n",
    "        entrada_str = input(f\"Intento {intentos + 1}: ¿Qué número crees que es?: \")\n",
    "        \n",
    "        # Cheat code\n",
    "        if entrada_str == \"-1\":\n",
    "            print(f\" Cheat code activado. El número secreto es: {numero_secreto}\")\n",
    "            continue\n",
    "\n",
    "        try:\n",
    "            entrada = int(entrada_str)\n",
    "        except ValueError:\n",
    "            print(\" Eso no es un número válido. Intenta de nuevo.\")\n",
    "            continue  # No cuenta como intento\n",
    "\n",
    "        intentos += 1\n",
    "\n",
    "        if entrada == numero_secreto:\n",
    "            if intentos == 1:\n",
    "                print(\"¡Increíble! ¡Adivinaste a la primera!\")\n",
    "                adivino_a_la_primera = True\n",
    "            else:\n",
    "                print(f\"¡Correcto! Lo adivinaste en {intentos} intentos.\")\n",
    "            break\n",
    "        elif entrada < numero_secreto:\n",
    "            print(\"🔻 Tu número es muy bajo.\")\n",
    "        else:\n",
    "            print(\"🔺 Tu número es muy alto.\")\n",
    "\n",
    "    else:\n",
    "        # Se ejecuta si se acaban los intentos sin acertar\n",
    "        print(f\"😞 Se acabaron los intentos. El número era: {numero_secreto}\")\n",
    "\n",
    "\n",
    "    return adivino_a_la_primera\n",
    "\n",
    "def main():\n",
    "    while True:\n",
    "        jugar()\n",
    "        jugar_otra_vez = input(\"¿Quieres jugar otra vez? (s/n): \").lower()\n",
    "        if jugar_otra_vez != \"s\":\n",
    "            print(\"Gracias por jugar. ¡Hasta luego!\")\n",
    "            break\n",
    "\n",
    "if __name__ == \"__main__\":\n",
    "    main()\n"
   ]
  }
 ],
 "metadata": {
  "kernelspec": {
   "display_name": "Python 3",
   "language": "python",
   "name": "python3"
  },
  "language_info": {
   "codemirror_mode": {
    "name": "ipython",
    "version": 3
   },
   "file_extension": ".py",
   "mimetype": "text/x-python",
   "name": "python",
   "nbconvert_exporter": "python",
   "pygments_lexer": "ipython3",
   "version": "3.12.1"
  }
 },
 "nbformat": 4,
 "nbformat_minor": 5
}
