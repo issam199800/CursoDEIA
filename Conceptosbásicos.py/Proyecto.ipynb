{
 "cells": [
  {
   "cell_type": "markdown",
   "id": "51b161ba",
   "metadata": {},
   "source": [
    "Mejoras del proyecto (bucles)\n",
    "\n",
    "- Notificar al usuario si su número es menor o mayor\n",
    "- Implementar un número máximo de intentos\n",
    "- Mostrar número de intentos usados\n",
    "- Posibilidad de volver a jugar\n",
    "- Mostrar resultado si se introduce el número -1(cheat code)\n",
    "- Mensaje especial si se adivina a la primera\n",
    "- Caulquiera otra mejora..."
   ]
  }
 ],
 "metadata": {
  "language_info": {
   "name": "python"
  }
 },
 "nbformat": 4,
 "nbformat_minor": 5
}
