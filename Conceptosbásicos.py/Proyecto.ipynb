{
 "cells": [
  {
   "cell_type": "markdown",
   "id": "51b161ba",
   "metadata": {},
   "source": [
    "Mejoras del proyecto (bucles)\n",
    "\n",
    "- Notificar al usuario si su número es menor o mayor\n",
    "- Implementar un número máximo de intentos\n",
    "- Mostrar número de intentos usados\n",
    "- Posibilidad de volver a jugar\n",
    "- Mostrar resultado si se introduce el número -1(cheat code)\n",
    "- Mensaje especial si se adivina a la primera\n",
    "- Caulquiera otra mejora..."
   ]
  },
  {
   "cell_type": "code",
   "execution_count": 1,
   "id": "36186ef0",
   "metadata": {},
   "outputs": [
    {
     "name": "stdout",
     "output_type": "stream",
     "text": [
      "\n",
      "¡Bienvenido al juego de adivinar el número!\n",
      "Estoy pensando en un número del 1 al 50.\n",
      "Tú escribiste: \n"
     ]
    }
   ],
   "source": [
    "def jugar():\n",
    "    print(\"\\n¡Bienvenido al juego de adivinar el número!\")\n",
    "    print(\"Estoy pensando en un número del 1 al 50.\")\n",
    "    entrada = input(\"Ingresa tu número: \")\n",
    "    print(\"Tú escribiste:\", entrada)\n",
    "\n",
    "# Llamamos la función para probar\n",
    "jugar()\n"
   ]
  },
  {
   "cell_type": "code",
   "execution_count": 3,
   "id": "a60da920",
   "metadata": {},
   "outputs": [
    {
     "name": "stdout",
     "output_type": "stream",
     "text": [
      "\n",
      "Estoy pensando en un número del 1 al 50.\n",
      "Eso no es un número válido. Intenta de nuevo.\n"
     ]
    }
   ],
   "source": [
    "import random\n",
    "\n",
    "def jugar():\n",
    "    numero_secreto = random.randint(1, 50)\n",
    "\n",
    "    print(\"\\nEstoy pensando en un número del 1 al 50.\")\n",
    "\n",
    "    try:\n",
    "        entrada = int(input(\"¿Qué número crees que es?: \"))\n",
    "    except ValueError:\n",
    "        print(\"Eso no es un número válido. Intenta de nuevo.\")\n",
    "        return  # Salimos de la función sin continuar\n",
    "\n",
    "    if entrada == numero_secreto:\n",
    "        print(\"¡Es correcto!\")\n",
    "    else:\n",
    "        print(\"Incorrecto. El número secreto era:\", numero_secreto)\n",
    "\n",
    "jugar()\n"
   ]
  }
 ],
 "metadata": {
  "kernelspec": {
   "display_name": "Python 3",
   "language": "python",
   "name": "python3"
  },
  "language_info": {
   "codemirror_mode": {
    "name": "ipython",
    "version": 3
   },
   "file_extension": ".py",
   "mimetype": "text/x-python",
   "name": "python",
   "nbconvert_exporter": "python",
   "pygments_lexer": "ipython3",
   "version": "3.12.1"
  }
 },
 "nbformat": 4,
 "nbformat_minor": 5
}
