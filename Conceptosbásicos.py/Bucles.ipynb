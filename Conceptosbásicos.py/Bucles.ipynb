{
 "cells": [
  {
   "cell_type": "markdown",
   "id": "df4dd8e8",
   "metadata": {},
   "source": [
    "EJECUTAR CÓDIGO REPETIDAMENTE\n",
    "\n",
    "- Palabras reservadas: for, while (estos dos nos definen nuesros bucles) continue, break (y estos dos nos permiten salir de ellos o continuar)\n",
    "\n",
    "for i in range(3):          \n",
    "   print(i)\n",
    "\n",
    "-------------------------------  #Ejemplos bucles for\n",
    "\n",
    "for i in range(5)\n",
    "   if i % 2\n",
    "       continue \n",
    "    prnt(i)\n",
    "\n",
    "------------------------------------- #Ejemplos bucles while\n",
    "\n",
    "i = 0\n",
    "while i < 3:\n",
    "   print(i)\n",
    "   i = i + 1\n",
    "\n",
    "-----------\n",
    "\n",
    "i = 0\n",
    "while True:\n",
    "   print(i)\n",
    "i = i +1\n",
    "if i >=\n",
    "\n",
    "  break \n"
   ]
  },
  {
   "cell_type": "code",
   "execution_count": null,
   "id": "e86f779a",
   "metadata": {},
   "outputs": [
    {
     "name": "stdout",
     "output_type": "stream",
     "text": [
      "0\n",
      "1\n",
      "2\n"
     ]
    }
   ],
   "source": [
    "#Primer bucle for\n",
    "\n",
    "for i in range(3): #Esta función range nos devuelve un objeto que lo podemos iterar. Por cada elemento i dentro del iterador (range)en este caso 3.\n",
    "    print(i)    #i es el iterador"
   ]
  },
  {
   "cell_type": "code",
   "execution_count": null,
   "id": "52a56bac",
   "metadata": {},
   "outputs": [
    {
     "name": "stdout",
     "output_type": "stream",
     "text": [
      "0\n",
      "2\n",
      "4\n"
     ]
    }
   ],
   "source": [
    "for i in range(5):\n",
    "    if i % 2:  #En esta condición estamos diciendo que siempre que se cumpla esto (i % 2) continua\n",
    "        continue  #Para impares, ponemos el not para cambiarle el sentido.\n",
    "    print(i)"
   ]
  },
  {
   "cell_type": "code",
   "execution_count": null,
   "id": "402c082b",
   "metadata": {},
   "outputs": [
    {
     "name": "stdout",
     "output_type": "stream",
     "text": [
      "0\n",
      "1\n",
      "2\n"
     ]
    }
   ],
   "source": [
    "i = 0   #Inicializamos una variable que en este caso es de valor 0.\n",
    "while i < 3:  #En este caso queremos decir que: mientras i sea menor que 3, haz todo lo que tengamos dentro de: print(i) i = i + 1\n",
    "    print(i)\n",
    "    i = i + 1"
   ]
  },
  {
   "cell_type": "code",
   "execution_count": null,
   "id": "560d7878",
   "metadata": {},
   "outputs": [
    {
     "name": "stdout",
     "output_type": "stream",
     "text": [
      "0\n",
      "1\n",
      "2\n"
     ]
    }
   ],
   "source": [
    "i = 0       #Bucles infinitos cbn While True, nosotros decidimos cuando termina este bucle con un break y así salimos de este while\n",
    "while True:\n",
    "    print(i)\n",
    "    i = i + 1\n",
    "    if i >= 3:\n",
    "        break"
   ]
  },
  {
   "cell_type": "markdown",
   "id": "d06fd771",
   "metadata": {},
   "source": [
    "Ejercicio: Adivina el número: escribe un programa que genere un número aleatorio y pida un número al usuario de manera repentina hasta que lo adivine.\n",
    "\n",
    "import random\n",
    "\n",
    "x = random.randint(1, 10)\n",
    "\n"
   ]
  },
  {
   "cell_type": "code",
   "execution_count": null,
   "id": "ec3fe08a",
   "metadata": {},
   "outputs": [],
   "source": [
    "import random \n",
    "x = random.randint(1 ,10)\n",
    "while True:\n",
    "    y = int(input(\"Adivina el número:\"))\n",
    "    if y == x:                 #Condicional\n",
    "        print(\"Es correcto, enhorabuena!\")\n",
    "        break                   #Cerramos bucle infinito\n",
    "    else:\n",
    "        print(\"Oh que lastima! Has fallad\")"
   ]
  }
 ],
 "metadata": {
  "kernelspec": {
   "display_name": "Python 3",
   "language": "python",
   "name": "python3"
  },
  "language_info": {
   "codemirror_mode": {
    "name": "ipython",
    "version": 3
   },
   "file_extension": ".py",
   "mimetype": "text/x-python",
   "name": "python",
   "nbconvert_exporter": "python",
   "pygments_lexer": "ipython3",
   "version": "3.12.1"
  }
 },
 "nbformat": 4,
 "nbformat_minor": 5
}
